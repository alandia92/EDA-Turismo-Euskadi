{
 "cells": [
  {
   "attachments": {},
   "cell_type": "markdown",
   "metadata": {},
   "source": [
    "Para analizar el impacto del turismo en la calidad de vida de los residentes de Bilbao:\n",
    "\n",
    "- Datos sobre el número de turistas que visitan la ciudad: Esto permitirá ver si la afluencia de turistas está aumentando o disminuyendo, lo que puede tener un impacto en la calidad de vida de los residentes. También se puede comparar la cantidad de turistas con la población local para ver si hay un desequilibrio.\n",
    "\n",
    "- Datos sobre la ocupación hotelera/ alquileres turisticos: Si la ocupación hotelera está aumentando, es posible que esto indique un aumento en el turismo. Si los hoteles están ocupados durante todo el año, esto puede indicar una sobrecarga en los recursos y servicios locales, lo que puede tener un impacto en la calidad de vida de los residentes.\n",
    "\n",
    "- Datos sobre la congestión de tráfico: Un aumento en el turismo puede llevar a una mayor congestión de tráfico en la ciudad. Buscar datos sobre la cantidad de vehículos que circulan por la ciudad, el tiempo que se tarda en desplazarse de un lugar a otro y la cantidad de emisiones de gases de efecto invernadero.\n",
    "\n",
    "- Datos sobre la contaminación del aire: El aumento del turismo puede tener un impacto en la calidad del aire en la ciudad. Puedes buscar datos sobre la calidad del aire en la ciudad y compararlos con los datos de otras ciudades para ver si hay una diferencia significativa.\n",
    "\n",
    "- Datos sobre la vivienda: El aumento del turismo puede llevar a un aumento de los precios de la vivienda y la gentrificación en algunas zonas de la ciudad, lo que puede tener un impacto en la calidad de vida de los residentes. Buscar datos sobre los precios de la vivienda y el número de desalojos en la ciudad.\n",
    "\n",
    "- Datos sobre los empleos en el sector turístico: buscar datos sobre los trabajos creados por el sector turístico en la ciudad, incluyendo los salarios y las condiciones laborales. Si los trabajos en el sector turístico pagan menos que otros trabajos en la ciudad, esto puede tener un impacto en la calidad de vida de los residentes. Buscar datos sobre economia sumergida.\n"
   ]
  },
  {
   "attachments": {},
   "cell_type": "markdown",
   "metadata": {},
   "source": [
    "- Comparacion con otro pais\n",
    "- Estudio de la viavilidad del sector turistico"
   ]
  }
 ],
 "metadata": {
  "kernelspec": {
   "display_name": "Python 3",
   "language": "python",
   "name": "python3"
  },
  "language_info": {
   "codemirror_mode": {
    "name": "ipython",
    "version": 3
   },
   "file_extension": ".py",
   "mimetype": "text/x-python",
   "name": "python",
   "nbconvert_exporter": "python",
   "pygments_lexer": "ipython3",
   "version": "3.10.6"
  },
  "orig_nbformat": 4
 },
 "nbformat": 4,
 "nbformat_minor": 2
}
