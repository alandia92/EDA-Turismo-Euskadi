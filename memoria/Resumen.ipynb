{
 "cells": [
  {
   "attachments": {},
   "cell_type": "markdown",
   "metadata": {},
   "source": [
    "# Impacto del turismo en los residentes de Euskadi"
   ]
  },
  {
   "attachments": {},
   "cell_type": "markdown",
   "metadata": {},
   "source": [
    "Los residentes de las zonas turísticas pueden experimentar efectos positivos y negativos del turismo como un aumento en los servicios y la oferta cultural, pero también problemas el aumento del costo de vida, la generación de empleo de baja\n",
    "calidad y aumento de emisiones a la atmosfera"
   ]
  },
  {
   "attachments": {},
   "cell_type": "markdown",
   "metadata": {},
   "source": [
    "## HIPÓTESIS"
   ]
  },
  {
   "attachments": {},
   "cell_type": "markdown",
   "metadata": {},
   "source": [
    "### PRINCIPAL HIPÓTESIS"
   ]
  },
  {
   "attachments": {},
   "cell_type": "markdown",
   "metadata": {},
   "source": [
    "> #### El aumento del turismo afecta negativamente a la población de Euskadi"
   ]
  },
  {
   "attachments": {},
   "cell_type": "markdown",
   "metadata": {},
   "source": [
    "### HIPÓTESIS PARA LA OBTENCIÓN DE DATOS"
   ]
  },
  {
   "attachments": {},
   "cell_type": "markdown",
   "metadata": {},
   "source": [
    "Para la recolección de datos, se han tenido en cuenta las siguientes hipótesis:\n",
    "\n",
    "> 1 - Hay un aumento del turismo en Euskadi\\\n",
    "> 2 - Por el aumento del turismo, se incrementa el precio de a vivienda\\\n",
    "> 3 - No es viable para la calidad de vida de los residentes una economia basada en el turismo(sector servicios)\\\n",
    "> 4 - El aumento del turismo afecta a las emisiones de CO2\\"
   ]
  },
  {
   "attachments": {},
   "cell_type": "markdown",
   "metadata": {},
   "source": [
    "### ADQUISICIÓN DE DATOS"
   ]
  },
  {
   "attachments": {},
   "cell_type": "markdown",
   "metadata": {},
   "source": [
    "La recopilación de datos se ha realizado en las siguientes fuentes\n",
    "> INE (Instituto Nacionakl de Esradística)\\\n",
    "> EUSTAT (Instituto Vasco de Estadística)\\\n",
    "> SEPE (Servicio Publico de Empleo Estatal)\\\n",
    "> OPEN DATA EUSKADI\\\n",
    "> IDEALISTA\\\n",
    "> OURWORLINDATA\\\n",
    "> STATS OEDC"
   ]
  },
  {
   "attachments": {},
   "cell_type": "markdown",
   "metadata": {},
   "source": [
    "### LIMPIEZA Y TRATAMIENTO DE DATOS"
   ]
  },
  {
   "attachments": {},
   "cell_type": "markdown",
   "metadata": {},
   "source": [
    "Para la limpieza y el tratamiento de datos, se ha utilizado Python y las librerias Pandas, Numpy, Sklearn y pickle. Para la visualización de datos se ha utilizado Flourish y para la presentación Canva"
   ]
  },
  {
   "attachments": {},
   "cell_type": "markdown",
   "metadata": {},
   "source": [
    "#### Resumen de datos"
   ]
  },
  {
   "attachments": {},
   "cell_type": "markdown",
   "metadata": {},
   "source": [
    "> ## Aumento del turismo en Euskadi"
   ]
  },
  {
   "attachments": {},
   "cell_type": "markdown",
   "metadata": {},
   "source": [
    "![Turismo Euskadi](./img/Turismo%20en%20euskadi.png)"
   ]
  },
  {
   "attachments": {},
   "cell_type": "markdown",
   "metadata": {},
   "source": [
    "La gráfica muestra claramente que el turismo en Euskadi estaba en aumento antes de la pandemia y que después de la misma, se han vuelto a alcanzar niveles similares."
   ]
  },
  {
   "attachments": {},
   "cell_type": "markdown",
   "metadata": {},
   "source": [
    "> ## Aumento del precio de la vivienda"
   ]
  },
  {
   "attachments": {},
   "cell_type": "markdown",
   "metadata": {},
   "source": [
    "Comparación de datos con Madrid por su crisis de la vivienda con el aumento del turismo"
   ]
  },
  {
   "attachments": {},
   "cell_type": "markdown",
   "metadata": {},
   "source": [
    "Precio por m2 en venta"
   ]
  },
  {
   "attachments": {},
   "cell_type": "markdown",
   "metadata": {},
   "source": [
    "![Precio Venta](./img/Venta.png)"
   ]
  },
  {
   "attachments": {},
   "cell_type": "markdown",
   "metadata": {},
   "source": [
    "Precio por m2 en alquiler"
   ]
  },
  {
   "attachments": {},
   "cell_type": "markdown",
   "metadata": {},
   "source": [
    "![Precio alquiler](./img/Alquiler.png)"
   ]
  },
  {
   "attachments": {},
   "cell_type": "markdown",
   "metadata": {},
   "source": [
    "En los graficos podemos apreciar el crecimiento de precios en alquiler y venta de vivienda tanto en Madrid como en Euskadi.\n",
    "El aumento puede ser debido a muchas causas, no sólo el aumento del turismo."
   ]
  },
  {
   "attachments": {},
   "cell_type": "markdown",
   "metadata": {},
   "source": [
    "> ## No es viable para la calidad de vida de los residentes una economia basada en el turismo(sector servicios)"
   ]
  },
  {
   "attachments": {},
   "cell_type": "markdown",
   "metadata": {},
   "source": [
    "Para analizar como puede afectar a la calidad de vida se han tenido en cuenta varios factores: \n",
    " - Que días y que temporada del año se trabaja más\n",
    " - Como de estable es el empleo en este sector\n",
    " - Remuneración media"
   ]
  },
  {
   "attachments": {},
   "cell_type": "markdown",
   "metadata": {},
   "source": [
    "### ¿Qué días se tarbaja más?"
   ]
  },
  {
   "attachments": {},
   "cell_type": "markdown",
   "metadata": {},
   "source": [
    "![Pernoctaciones dias de la semana](./img/dias%20semana.png)"
   ]
  },
  {
   "attachments": {},
   "cell_type": "markdown",
   "metadata": {},
   "source": [
    "Según los datos presentados, se observa que la diferencia en el porcentaje de días trabajados entre los días laborables y los fines de semana es de alrededor del 10%. A partir de esta información, se podría concluir que los horarios de trabajo no están equilibrados para permitir un equilibrio entre la vida laboral y personal."
   ]
  },
  {
   "attachments": {},
   "cell_type": "markdown",
   "metadata": {},
   "source": [
    "### ¿Qué periodo del año se trabaja más?"
   ]
  },
  {
   "attachments": {},
   "cell_type": "markdown",
   "metadata": {},
   "source": [
    "![Entradas durante el año](./img/Entradas%20en%20el%20a%C3%B1o.png)"
   ]
  },
  {
   "attachments": {},
   "cell_type": "markdown",
   "metadata": {},
   "source": [
    "A partir de la gráfica, se puede observar que este trabajo es altamente estacional, con su pico en la temporada de primavera-verano y una disminución en otras épocas del año. Además, se puede apreciar que durante una crisis, como ocurrió en el 2020, las entradas y el empleo disminuyen significativamente."
   ]
  },
  {
   "attachments": {},
   "cell_type": "markdown",
   "metadata": {},
   "source": [
    "### ¿Como evoluciona el paro?"
   ]
  },
  {
   "attachments": {},
   "cell_type": "markdown",
   "metadata": {},
   "source": [
    "![Evolución del paro](./img/Evolucion%20del%20paro%20por%20sector.png)"
   ]
  },
  {
   "attachments": {},
   "cell_type": "markdown",
   "metadata": {},
   "source": [
    "La gráfica muestra que el sector de servicios tiene un alto nivel de empleo, sin embargo, también se observa una tendencia de picos en los niveles de empleo que varían a lo largo del tiempo."
   ]
  },
  {
   "attachments": {},
   "cell_type": "markdown",
   "metadata": {},
   "source": [
    "### Estabilidad por sector"
   ]
  },
  {
   "attachments": {},
   "cell_type": "markdown",
   "metadata": {},
   "source": [
    "La variabilidad se puede medir mediante la desviación estándar o la varianza de los valores de empleo en cada sector. Los sectores con una desviación estándar o una varianza más baja tendrán una evolución del empleo más estable."
   ]
  },
  {
   "attachments": {},
   "cell_type": "markdown",
   "metadata": {},
   "source": [
    "![STD por sector](./img/Desviacion%20std.png)"
   ]
  },
  {
   "attachments": {},
   "cell_type": "markdown",
   "metadata": {},
   "source": [
    "Como se mencionó previamente, cuanto mayor sea la desviación estándar, mayor será la inestabilidad en el empleo de un sector. En la gráfica anterior, se observa una tendencia de picos en el sector de servicios, lo que se refleja en una desviación estándar más alta en comparación con los demás sectores."
   ]
  },
  {
   "attachments": {},
   "cell_type": "markdown",
   "metadata": {},
   "source": [
    "### Salario medio"
   ]
  },
  {
   "attachments": {},
   "cell_type": "markdown",
   "metadata": {},
   "source": [
    "![Salario medio](./img/salario%20medio.png)"
   ]
  },
  {
   "attachments": {},
   "cell_type": "markdown",
   "metadata": {},
   "source": [
    "La gráfica muestra que el salario medio ha experimentado un ligero aumento en el transcurso de varios años, sin embargo, sigue siendo uno de los salarios más bajos en comparación con otros sectores."
   ]
  },
  {
   "attachments": {},
   "cell_type": "markdown",
   "metadata": {},
   "source": [
    "> ## El aumento del turismo afecta a las emisiones de CO2"
   ]
  },
  {
   "attachments": {},
   "cell_type": "markdown",
   "metadata": {},
   "source": [
    "A medida que se intensifican las campañas para reducir los niveles de emisiones en la atmósfera, se están implementando medidas para obstaculizar el uso de vehículos en nuestras actividades diarias, como ir al trabajo o hacer compras. Sin embargo, estas medidas entran en conflicto con las campañas para fomentar el turismo, ya que el aumento del turismo puede resultar en un aumento en el uso de vehículos, como aviones y otros medios de transporte, para trasladar a los turistas."
   ]
  },
  {
   "attachments": {},
   "cell_type": "markdown",
   "metadata": {},
   "source": [
    "![Emisiones CO2](./img/co2.png)"
   ]
  },
  {
   "attachments": {},
   "cell_type": "markdown",
   "metadata": {},
   "source": [
    "La gráfica muestra claramente que las emisiones de CO2 están en aumento. Esta tendencia va en contra de las campañas que buscan reducir las emisiones a la atmósfera, y podría ser exacerbada por el aumento del turismo, lo que a su vez podría aumentar el uso de vehículos y los niveles de emisiones de CO2."
   ]
  },
  {
   "attachments": {},
   "cell_type": "markdown",
   "metadata": {},
   "source": [
    "## Conclusiones"
   ]
  },
  {
   "attachments": {},
   "cell_type": "markdown",
   "metadata": {},
   "source": [
    "El aumento del turismo puede contribuir al incremento en los precios de la vivienda, lo que puede resultar en una mayor dificultad para encontrar alojamiento asequible."
   ]
  },
  {
   "attachments": {},
   "cell_type": "markdown",
   "metadata": {},
   "source": [
    "Es posible que el turismo no esté generando empleos de calidad debido a la naturaleza de los horarios, la temporalidad y los bajos salarios se asocian con este sector."
   ]
  },
  {
   "attachments": {},
   "cell_type": "markdown",
   "metadata": {},
   "source": [
    "El incremento del turismo también puede contribuir al aumento de los niveles de emisiones a la atmósfera, lo que va en contra de las campañas para reducir los niveles de emisiones."
   ]
  }
 ],
 "metadata": {
  "language_info": {
   "name": "python"
  },
  "orig_nbformat": 4
 },
 "nbformat": 4,
 "nbformat_minor": 2
}
